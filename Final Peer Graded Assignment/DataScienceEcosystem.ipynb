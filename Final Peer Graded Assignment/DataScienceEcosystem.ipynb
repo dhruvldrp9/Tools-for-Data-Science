{
 "cells": [
  {
   "cell_type": "markdown",
   "id": "b80a572d",
   "metadata": {},
   "source": [
    "# Data Science Tools and Ecosystem"
   ]
  },
  {
   "cell_type": "markdown",
   "id": "9ef87474",
   "metadata": {},
   "source": [
    "In this notebook, Data Science Tools and Ecosystem are summarized."
   ]
  },
  {
   "cell_type": "markdown",
   "id": "7ab8f2bf",
   "metadata": {},
   "source": [
    "Some of the popular languages that Data Scientists use are:\n",
    "1. Python\n",
    "2. Java\n",
    "3. R"
   ]
  },
  {
   "cell_type": "markdown",
   "id": "64be4777",
   "metadata": {},
   "source": [
    "Some of the commonly used libraries used by Data Scientists include:\n",
    "1. Pandas\n",
    "2. Numpy\n",
    "3. Matplotlib"
   ]
  },
  {
   "cell_type": "markdown",
   "id": "34992a3f",
   "metadata": {},
   "source": [
    "Data Science Tools.\n",
    "\n",
    "| Data Science Tools |\n",
    "| ------------------ |\n",
    "| Watson Studio |\n",
    "| Jupyter Notebook |\n",
    "| R Studio |"
   ]
  },
  {
   "cell_type": "code",
   "execution_count": 1,
   "id": "a347f9c4",
   "metadata": {},
   "outputs": [
    {
     "data": {
      "text/plain": [
       "17"
      ]
     },
     "execution_count": 1,
     "metadata": {},
     "output_type": "execute_result"
    }
   ],
   "source": [
    "#This a simple arithmetic expression to mutiply then add integers\n",
    "(3*4)+5"
   ]
  },
  {
   "cell_type": "code",
   "execution_count": 2,
   "id": "bee988fe",
   "metadata": {},
   "outputs": [
    {
     "data": {
      "text/plain": [
       "3.3333333333333335"
      ]
     },
     "execution_count": 2,
     "metadata": {},
     "output_type": "execute_result"
    }
   ],
   "source": [
    "#This will convert 200 minutes to hours by diving by 60\n",
    "200/60"
   ]
  },
  {
   "cell_type": "markdown",
   "id": "78744d2a",
   "metadata": {},
   "source": [
    "**Objectives:**\n",
    "- Creating Jupyter Notebook\n",
    "- Give a heading\n",
    "- Some of the popular languages that Data Scientists use are\n",
    "- Some of the commonly used libraries used by Data Scientists include\n",
    "- Data Science Tools."
   ]
  },
  {
   "cell_type": "markdown",
   "id": "0e5e61e1",
   "metadata": {},
   "source": [
    "## Author\n",
    "Dhruv"
   ]
  },
  {
   "cell_type": "code",
   "execution_count": null,
   "id": "c46fb134",
   "metadata": {},
   "outputs": [],
   "source": []
  }
 ],
 "metadata": {
  "kernelspec": {
   "display_name": "Python 3 (ipykernel)",
   "language": "python",
   "name": "python3"
  },
  "language_info": {
   "codemirror_mode": {
    "name": "ipython",
    "version": 3
   },
   "file_extension": ".py",
   "mimetype": "text/x-python",
   "name": "python",
   "nbconvert_exporter": "python",
   "pygments_lexer": "ipython3",
   "version": "3.9.13"
  }
 },
 "nbformat": 4,
 "nbformat_minor": 5
}
